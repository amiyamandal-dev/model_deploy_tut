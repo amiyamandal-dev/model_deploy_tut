{
  "nbformat": 4,
  "nbformat_minor": 0,
  "metadata": {
    "colab": {
      "name": "summerization.ipynb",
      "provenance": [],
      "collapsed_sections": []
    },
    "kernelspec": {
      "name": "python3",
      "display_name": "Python 3"
    },
    "accelerator": "GPU"
  },
  "cells": [
    {
      "cell_type": "code",
      "metadata": {
        "id": "tQHWTqthu5WZ",
        "colab_type": "code",
        "colab": {}
      },
      "source": [
        "# !pip install ohmeow-blurr\n",
        "# !pip install nlp"
      ],
      "execution_count": 1,
      "outputs": []
    },
    {
      "cell_type": "code",
      "metadata": {
        "id": "QL26uCOLtV9-",
        "colab_type": "code",
        "colab": {}
      },
      "source": [
        "from fastai.text.all import *\n",
        "from transformers import *\n",
        "\n",
        "from blurr.data.all import *\n",
        "from blurr.modeling.all import *\n",
        "import nlp"
      ],
      "execution_count": 2,
      "outputs": []
    },
    {
      "cell_type": "code",
      "metadata": {
        "id": "v-Wjicdj1r3n",
        "colab_type": "code",
        "colab": {
          "base_uri": "https://localhost:8080/",
          "height": 34
        },
        "outputId": "61da94c4-8bf1-4dc0-c02b-9e170988c4f6"
      },
      "source": [
        "raw_data = nlp.load_dataset('cnn_dailymail', '3.0.0')\n",
        "raw_data.keys()"
      ],
      "execution_count": 3,
      "outputs": [
        {
          "output_type": "execute_result",
          "data": {
            "text/plain": [
              "dict_keys(['train', 'validation', 'test'])"
            ]
          },
          "metadata": {
            "tags": []
          },
          "execution_count": 3
        }
      ]
    },
    {
      "cell_type": "code",
      "metadata": {
        "id": "hkQWKdn01xt7",
        "colab_type": "code",
        "colab": {
          "base_uri": "https://localhost:8080/",
          "height": 629
        },
        "outputId": "7f4f2222-97ce-4675-dcb4-c12da4d0a54f"
      },
      "source": [
        "df = pd.DataFrame(raw_data['train'])\n",
        "df.head()"
      ],
      "execution_count": 4,
      "outputs": [
        {
          "output_type": "execute_result",
          "data": {
            "text/html": [
              "<div>\n",
              "<style scoped>\n",
              "    .dataframe tbody tr th:only-of-type {\n",
              "        vertical-align: middle;\n",
              "    }\n",
              "\n",
              "    .dataframe tbody tr th {\n",
              "        vertical-align: top;\n",
              "    }\n",
              "\n",
              "    .dataframe thead th {\n",
              "        text-align: right;\n",
              "    }\n",
              "</style>\n",
              "<table border=\"1\" class=\"dataframe\">\n",
              "  <thead>\n",
              "    <tr style=\"text-align: right;\">\n",
              "      <th></th>\n",
              "      <th>article</th>\n",
              "      <th>highlights</th>\n",
              "      <th>id</th>\n",
              "    </tr>\n",
              "  </thead>\n",
              "  <tbody>\n",
              "    <tr>\n",
              "      <th>0</th>\n",
              "      <td>It's official: U.S. President Barack Obama wants lawmakers to weigh in on whether to use military force in Syria. Obama sent a letter to the heads of the House and Senate on Saturday night, hours after announcing that he believes military action against Syrian targets is the right step to take over the alleged use of chemical weapons. The proposed legislation from Obama asks Congress to approve the use of military force \"to deter, disrupt, prevent and degrade the potential for future uses of chemical weapons or other weapons of mass destruction.\" It's a step that is set to turn an internat...</td>\n",
              "      <td>Syrian official: Obama climbed to the top of the tree, \"doesn't know how to get down\"\\nObama sends a letter to the heads of the House and Senate .\\nObama to seek congressional approval on military action against Syria .\\nAim is to determine whether CW were used, not by whom, says U.N. spokesman .</td>\n",
              "      <td>0001d1afc246a7964130f43ae940af6bc6c57f01</td>\n",
              "    </tr>\n",
              "    <tr>\n",
              "      <th>1</th>\n",
              "      <td>(CNN) -- Usain Bolt rounded off the world championships Sunday by claiming his third gold in Moscow as he anchored Jamaica to victory in the men's 4x100m relay. The fastest man in the world charged clear of United States rival Justin Gatlin as the Jamaican quartet of Nesta Carter, Kemar Bailey-Cole, Nickel Ashmeade and Bolt won in 37.36 seconds. The U.S finished second in 37.56 seconds with Canada taking the bronze after Britain were disqualified for a faulty handover. The 26-year-old Bolt has now collected eight gold medals at world championships, equaling the record held by American trio...</td>\n",
              "      <td>Usain Bolt wins third gold of world championship .\\nAnchors Jamaica to 4x100m relay victory .\\nEighth gold at the championships for Bolt .\\nJamaica double up in women's 4x100m relay .</td>\n",
              "      <td>0002095e55fcbd3a2f366d9bf92a95433dc305ef</td>\n",
              "    </tr>\n",
              "    <tr>\n",
              "      <th>2</th>\n",
              "      <td>Kansas City, Missouri (CNN) -- The General Services Administration, already under investigation for lavish spending, allowed an employee to telecommute from Hawaii even though he is based at the GSA's Kansas City, Missouri, office, a CNN investigation has found. It cost more than $24,000 for the business development specialist to travel to and from the mainland United States over the past year. He is among several hundred GSA \"virtual\" workers who also travel to various conferences and their home offices, costing the agency millions of dollars over the past three years. Under the program, ...</td>\n",
              "      <td>The employee in agency's Kansas City office is among hundreds of \"virtual\" workers .\\nThe employee's travel to and from the mainland U.S. last year cost more than $24,000 .\\nThe telecommuting program, like all GSA practices, is under review .</td>\n",
              "      <td>00027e965c8264c35cc1bc55556db388da82b07f</td>\n",
              "    </tr>\n",
              "    <tr>\n",
              "      <th>3</th>\n",
              "      <td>Los Angeles (CNN) -- A medical doctor in Vancouver, British Columbia, said Thursday that California arson suspect Harry Burkhart suffered from severe mental illness in 2010, when she examined him as part of a team of doctors. Dr. Blaga Stancheva, a family physician and specialist in obstetrics, said both Burkhart and his mother, Dorothee, were her patients in Vancouver while both were applying for refugee status in Canada. \"I was asked to diagnose and treat Harry to support a claim explaining why he was unable to show up in a small-claims court case,\" Stancheva told CNN in a phone intervie...</td>\n",
              "      <td>NEW: A Canadian doctor says she was part of a team examining Harry Burkhart in 2010 .\\nNEW: Diagnosis: \"autism, severe anxiety, post-traumatic stress disorder and depression\"\\nBurkhart is also suspected in a German arson probe, officials say .\\nProsecutors believe the German national set a string of fires in Los Angeles .</td>\n",
              "      <td>0002c17436637c4fe1837c935c04de47adb18e9a</td>\n",
              "    </tr>\n",
              "    <tr>\n",
              "      <th>4</th>\n",
              "      <td>(CNN) -- Police arrested another teen Thursday, the sixth suspect jailed in connection with the gang rape of a 15-year-old girl on a northern California high school campus. Jose Carlos Montano, 18, was arrested on charges of felony rape, rape in concert with force, and penetration with a foreign object, said Richmond Police Lt. Mark Gagan. Montano was arrested Thursday evening in San Pablo, California, a small town about two miles from the city of Richmond, where the crime took place. Montano, who was held in lieu of $1.3 million bail, is accused of taking part in what police said was a 2½...</td>\n",
              "      <td>Another arrest made in gang rape outside California school .\\nInvestigators say up to 20 people took part or stood and watched the assault .\\nFour suspects appeared in court Thursday; three wore bulletproof vests .</td>\n",
              "      <td>0003ad6ef0c37534f80b55b4235108024b407f0b</td>\n",
              "    </tr>\n",
              "  </tbody>\n",
              "</table>\n",
              "</div>"
            ],
            "text/plain": [
              "                                                                                                                                                                                                                                                                                                                                                                                                                                                                                                                                                                                                                   article  ...                                        id\n",
              "0  It's official: U.S. President Barack Obama wants lawmakers to weigh in on whether to use military force in Syria. Obama sent a letter to the heads of the House and Senate on Saturday night, hours after announcing that he believes military action against Syrian targets is the right step to take over the alleged use of chemical weapons. The proposed legislation from Obama asks Congress to approve the use of military force \"to deter, disrupt, prevent and degrade the potential for future uses of chemical weapons or other weapons of mass destruction.\" It's a step that is set to turn an internat...  ...  0001d1afc246a7964130f43ae940af6bc6c57f01\n",
              "1  (CNN) -- Usain Bolt rounded off the world championships Sunday by claiming his third gold in Moscow as he anchored Jamaica to victory in the men's 4x100m relay. The fastest man in the world charged clear of United States rival Justin Gatlin as the Jamaican quartet of Nesta Carter, Kemar Bailey-Cole, Nickel Ashmeade and Bolt won in 37.36 seconds. The U.S finished second in 37.56 seconds with Canada taking the bronze after Britain were disqualified for a faulty handover. The 26-year-old Bolt has now collected eight gold medals at world championships, equaling the record held by American trio...  ...  0002095e55fcbd3a2f366d9bf92a95433dc305ef\n",
              "2  Kansas City, Missouri (CNN) -- The General Services Administration, already under investigation for lavish spending, allowed an employee to telecommute from Hawaii even though he is based at the GSA's Kansas City, Missouri, office, a CNN investigation has found. It cost more than $24,000 for the business development specialist to travel to and from the mainland United States over the past year. He is among several hundred GSA \"virtual\" workers who also travel to various conferences and their home offices, costing the agency millions of dollars over the past three years. Under the program, ...  ...  00027e965c8264c35cc1bc55556db388da82b07f\n",
              "3  Los Angeles (CNN) -- A medical doctor in Vancouver, British Columbia, said Thursday that California arson suspect Harry Burkhart suffered from severe mental illness in 2010, when she examined him as part of a team of doctors. Dr. Blaga Stancheva, a family physician and specialist in obstetrics, said both Burkhart and his mother, Dorothee, were her patients in Vancouver while both were applying for refugee status in Canada. \"I was asked to diagnose and treat Harry to support a claim explaining why he was unable to show up in a small-claims court case,\" Stancheva told CNN in a phone intervie...  ...  0002c17436637c4fe1837c935c04de47adb18e9a\n",
              "4  (CNN) -- Police arrested another teen Thursday, the sixth suspect jailed in connection with the gang rape of a 15-year-old girl on a northern California high school campus. Jose Carlos Montano, 18, was arrested on charges of felony rape, rape in concert with force, and penetration with a foreign object, said Richmond Police Lt. Mark Gagan. Montano was arrested Thursday evening in San Pablo, California, a small town about two miles from the city of Richmond, where the crime took place. Montano, who was held in lieu of $1.3 million bail, is accused of taking part in what police said was a 2½...  ...  0003ad6ef0c37534f80b55b4235108024b407f0b\n",
              "\n",
              "[5 rows x 3 columns]"
            ]
          },
          "metadata": {
            "tags": []
          },
          "execution_count": 4
        }
      ]
    },
    {
      "cell_type": "code",
      "metadata": {
        "id": "c4WL0MbE_3Bi",
        "colab_type": "code",
        "colab": {
          "base_uri": "https://localhost:8080/",
          "height": 85
        },
        "outputId": "cde4871a-023d-4b7a-b3af-8233708e39ee"
      },
      "source": [
        "pretrained_model_name = \"t5-small\"\n",
        "hf_arch, hf_config, hf_tokenizer, hf_model = BLURR_MODEL_HELPER.get_hf_objects(pretrained_model_name, model_cls=T5ForConditionalGeneration)\n",
        "\n",
        "hf_arch, type(hf_config), type(hf_tokenizer), type(hf_model)"
      ],
      "execution_count": 5,
      "outputs": [
        {
          "output_type": "execute_result",
          "data": {
            "text/plain": [
              "('t5',\n",
              " transformers.configuration_t5.T5Config,\n",
              " transformers.tokenization_t5.T5Tokenizer,\n",
              " transformers.modeling_t5.T5ForConditionalGeneration)"
            ]
          },
          "metadata": {
            "tags": []
          },
          "execution_count": 5
        }
      ]
    },
    {
      "cell_type": "code",
      "metadata": {
        "id": "jWk1XPms9QdO",
        "colab_type": "code",
        "colab": {}
      },
      "source": [
        "hf_batch_tfm = HF_SummarizationBatchTransform(hf_arch, hf_tokenizer)\n",
        "\n",
        "blocks = ( \n",
        "    HF_TextBlock(hf_arch, hf_tokenizer), \n",
        "    HF_TextBlock(hf_arch, hf_tokenizer, hf_batch_tfm=hf_batch_tfm, max_length=150, hf_input_idxs=[0,1])\n",
        ")\n",
        "\n",
        "dblock = DataBlock(blocks=blocks, \n",
        "                   get_x=ColReader('article'), \n",
        "                   get_y=ColReader('highlights'), \n",
        "                   splitter=RandomSubsetSplitter(0.01, 0.0005))"
      ],
      "execution_count": 6,
      "outputs": []
    },
    {
      "cell_type": "code",
      "metadata": {
        "id": "fSB56J8Kv5GX",
        "colab_type": "code",
        "colab": {}
      },
      "source": [
        "dls = dblock.dataloaders(df, bs=2)"
      ],
      "execution_count": 7,
      "outputs": []
    },
    {
      "cell_type": "code",
      "metadata": {
        "id": "bx6fe474v8fx",
        "colab_type": "code",
        "colab": {
          "base_uri": "https://localhost:8080/",
          "height": 34
        },
        "outputId": "dce414c2-911a-4d96-fe41-f03c9584e16f"
      },
      "source": [
        "len(dls.train.items), len(dls.valid.items)"
      ],
      "execution_count": 8,
      "outputs": [
        {
          "output_type": "execute_result",
          "data": {
            "text/plain": [
              "(2871, 143)"
            ]
          },
          "metadata": {
            "tags": []
          },
          "execution_count": 8
        }
      ]
    },
    {
      "cell_type": "code",
      "metadata": {
        "id": "eB_wVR3AB8DF",
        "colab_type": "code",
        "colab": {
          "base_uri": "https://localhost:8080/",
          "height": 34
        },
        "outputId": "1c8d0191-0c2b-4737-e60d-3eb7d8d49733"
      },
      "source": [
        "dls.train"
      ],
      "execution_count": 9,
      "outputs": [
        {
          "output_type": "execute_result",
          "data": {
            "text/plain": [
              "<fastai.text.data.SortedDL at 0x7f573aa42c88>"
            ]
          },
          "metadata": {
            "tags": []
          },
          "execution_count": 9
        }
      ]
    },
    {
      "cell_type": "code",
      "metadata": {
        "id": "wnC2VF9IwCV_",
        "colab_type": "code",
        "colab": {
          "base_uri": "https://localhost:8080/",
          "height": 34
        },
        "outputId": "6a6c98b3-ec57-4ac5-b86f-39cef32697af"
      },
      "source": [
        "b = dls.one_batch()\n",
        "len(b), b[0]['input_ids'].shape, b[1].shape"
      ],
      "execution_count": 10,
      "outputs": [
        {
          "output_type": "execute_result",
          "data": {
            "text/plain": [
              "(2, torch.Size([2, 512]), torch.Size([2, 150]))"
            ]
          },
          "metadata": {
            "tags": []
          },
          "execution_count": 10
        }
      ]
    },
    {
      "cell_type": "code",
      "metadata": {
        "id": "SNwXBRijxNbo",
        "colab_type": "code",
        "colab": {
          "base_uri": "https://localhost:8080/",
          "height": 502
        },
        "outputId": "8f5e4549-956a-444e-81d5-b598428e5543"
      },
      "source": [
        "dls.show_batch(hf_tokenizer=hf_tokenizer, max_n=2)"
      ],
      "execution_count": 11,
      "outputs": [
        {
          "output_type": "display_data",
          "data": {
            "text/html": [
              "<table border=\"1\" class=\"dataframe\">\n",
              "  <thead>\n",
              "    <tr style=\"text-align: right;\">\n",
              "      <th></th>\n",
              "      <th>text</th>\n",
              "      <th>target</th>\n",
              "    </tr>\n",
              "  </thead>\n",
              "  <tbody>\n",
              "    <tr>\n",
              "      <th>0</th>\n",
              "      <td>A well-known Philadelphia mummer and his daughter have been arrested after allegedly beating and shooting a homeless man in a brutal attack that was caught on surveillance video. Carmen 'Butchie' D'Amato, 62, and Rita D'Amato, 36, were filmed approaching the unnamed man, also 36, in the city's Queen Village neighborhood shortly before 3am on October 25, police said. Shocking footage shows Rita apparently crouching into a batting stance, before striking the victim in the chest with a baseball bat, knocking him to the ground. As he gets up and tries to run, Carmen, who was inducted into the Mummers Hall of Fame aged just 21 and served as captain of the South Philly Vikings, then seemingly fires two shots at his leg. Scroll down for video. Caught on camera: Carmen 'Butchie' D'Amato, 62, and Rita D'Amato, 36, were filmed approaching a homeless man (pictured) in Queen Village, Philadelphia, shortly before 3am on October 25, according to police. Attack: Shocking footage shows Rita apparently crouching into a batting stance, before striking the 36-year-old victim - who has not bee named - in the chest with a baseball bat (pictured), knocking him to the ground. Firing off rounds: As he gets up and tries to run, Carmen, who was inducted into the Mummers Hall of Fame aged just 21, then seemingly fires two shots at his leg. Above, a bright white light shows the gunshot. By the time police arrived at the scene near 2nd and Carpenter Streets, Carmen (left) and Rita (right) had fled. By the time police arrived at the scene near 2nd and Carpenter Streets, the D'Amatos had fled. Officers discovered the homeless man lying on the ground with a broken leg, NBC reported. The victim, who Carmen and Rita reportedly believed may have been breaking into cars, was taken to Thomas Jefferson University Hospital for treatment. He is thought to have since been released. On Friday, warrants were issued for the arrest of Carmen and Rita, who were spotted leaving their house earlier in the day wearing similar clothing to that of the suspects</td>\n",
              "      <td>Carmen 'Butchie' D'Amato, 62, and Rita D'Amato, 36, arrested on Friday. Captured on surveillance camera attacking a homeless man, police said. Footage shows Rita apparently striking victim in chest with baseball bat. As the man tries to run, Carmen then seemingly fires two shots at his leg. Victim was taken to nearby hospital, where he was treated for broken leg. D'Amatos, who reportedly fled scene, charged with aggravated assault. They are due to appear in court on November 16 for preliminary hearing. Carmen is well-known in area; inducted into Mummers</td>\n",
              "    </tr>\n",
              "    <tr>\n",
              "      <th>1</th>\n",
              "      <td>By. Richard Spillett. Former prison nurse Karen Cosford has been barred from practising after she had an affair with inmate serving a life sentence. A former prison nurse who had an affair with a convicted rapist at a top security jail has been ordered to be struck off the nursing register. Married Karen Cosford had a relationship lasting several months with Brian McBride, who was serving a life sentence at Wakefield Prison, West Yorkshire. She denied any wrongdoing at a trial in 2012 but was found guilty of misconduct by engaging in a sexual relationship with an inmate and was jailed for three years. Cosford, 49, of Normanton, Wakefield, was also found guilty of failing to tell prison authorities that McBride had a mobile phone and bringing in top-ups for the prisoner. Today she was barred from practising as a nurse by medical body, the Nursing and Midwifery Council (NMC), following her release from prison last November. At her trial, Cosford, who worked in the jail's medical centre, claimed McBride, who is serving life for multiple offences of rape and violence, raped her then intimidated her so she would not report it. But jurors at Leeds Crown Court rejected the claim after hearing how she became inappropriately close to McBride, after he duped her into thinking he had wealth on the outside, and started a sexual relationship. The pair had met as he had a job as a cleaner in the healthcare centre, the court heard. During the trial, the court heard how other officers had stood guard while she went to McBride's cell for sex. She had also written him a love letter, which was found in a bag of sugar. Cosford was jailed over the fling, during which she turned a blind eye to rapist Brian McBride's mobile phone use, but was released last year. An NMC fitness to practise panel in London has now heard that Cosford sent an email last month in which she stated that she felt 'it would be a fruitless exercise to continue fighting to clear my name with the NMC. I hope this will allow you to progress without any further disruption</td>\n",
              "      <td>Karen Cosford met rapist Brian McBride for sex in Wakefield prison. The 49-year-old was jailed over the fling but has since been released. The Nursing and Midwifery Council has now barred her from practising. A professional panel found her convictions 'incompatible' with nursing.</td>\n",
              "    </tr>\n",
              "  </tbody>\n",
              "</table>"
            ],
            "text/plain": [
              "<IPython.core.display.HTML object>"
            ]
          },
          "metadata": {
            "tags": []
          }
        }
      ]
    },
    {
      "cell_type": "code",
      "metadata": {
        "id": "Gsfx1AzNxahb",
        "colab_type": "code",
        "colab": {
          "base_uri": "https://localhost:8080/",
          "height": 136
        },
        "outputId": "503ba7bc-1995-4964-b8ec-53ab59fca1a0"
      },
      "source": [
        "text_gen_kwargs = { **hf_config.task_specific_params['summarization'], **{'max_length': 130, 'min_length': 30} }\n",
        "text_gen_kwargs"
      ],
      "execution_count": 12,
      "outputs": [
        {
          "output_type": "execute_result",
          "data": {
            "text/plain": [
              "{'early_stopping': True,\n",
              " 'length_penalty': 2.0,\n",
              " 'max_length': 130,\n",
              " 'min_length': 30,\n",
              " 'no_repeat_ngram_size': 3,\n",
              " 'num_beams': 4,\n",
              " 'prefix': 'summarize: '}"
            ]
          },
          "metadata": {
            "tags": []
          },
          "execution_count": 12
        }
      ]
    },
    {
      "cell_type": "code",
      "metadata": {
        "id": "CzQOU1-Rxjg0",
        "colab_type": "code",
        "colab": {}
      },
      "source": [
        "model = HF_BaseModelWrapper(hf_model)\n",
        "model_cb = HF_SummarizationModelCallback(text_gen_kwargs=text_gen_kwargs)\n",
        "\n",
        "learn = Learner(dls, \n",
        "                model,\n",
        "                opt_func=ranger,\n",
        "                loss_func=HF_MaskedLMLoss(),\n",
        "                cbs=[model_cb],\n",
        "                splitter=partial(summarization_splitter, arch=hf_arch))#.to_fp16()\n",
        "\n",
        "learn.create_opt() \n",
        "learn.freeze()"
      ],
      "execution_count": 13,
      "outputs": []
    },
    {
      "cell_type": "code",
      "metadata": {
        "id": "2dRbDJEpxobG",
        "colab_type": "code",
        "colab": {
          "base_uri": "https://localhost:8080/",
          "height": 283
        },
        "outputId": "512622e3-cfea-4c55-dff8-71b97978f27a"
      },
      "source": [
        "k = learn.lr_find(suggestions=True)"
      ],
      "execution_count": 14,
      "outputs": [
        {
          "output_type": "display_data",
          "data": {
            "text/html": [
              ""
            ],
            "text/plain": [
              "<IPython.core.display.HTML object>"
            ]
          },
          "metadata": {
            "tags": []
          }
        },
        {
          "output_type": "display_data",
          "data": {
            "image/png": "[encoded data removed]",
            "text/plain": [
              "<Figure size 432x288 with 1 Axes>"
            ]
          },
          "metadata": {
            "tags": [],
            "needs_background": "light"
          }
        }
      ]
    },
    {
      "cell_type": "code",
      "metadata": {
        "id": "nrjx2nEI9Me3",
        "colab_type": "code",
        "colab": {
          "base_uri": "https://localhost:8080/",
          "height": 34
        },
        "outputId": "00019bd8-8cf6-4eee-e1af-0e9c67f66a05"
      },
      "source": [
        "k"
      ],
      "execution_count": 15,
      "outputs": [
        {
          "output_type": "execute_result",
          "data": {
            "text/plain": [
              "SuggestedLRs(lr_min=0.006918309628963471, lr_steep=9.12010818865383e-07)"
            ]
          },
          "metadata": {
            "tags": []
          },
          "execution_count": 15
        }
      ]
    },
    {
      "cell_type": "code",
      "metadata": {
        "id": "VIx3OlVzxsd0",
        "colab_type": "code",
        "colab": {
          "base_uri": "https://localhost:8080/",
          "height": 68
        },
        "outputId": "0278ca1f-19b3-4d05-e10b-d363bf166f50"
      },
      "source": [
        "b = dls.one_batch()\n",
        "preds = learn.model(b[0])\n",
        "len(preds),preds[0], preds[1].shape"
      ],
      "execution_count": 16,
      "outputs": [
        {
          "output_type": "execute_result",
          "data": {
            "text/plain": [
              "(4,\n",
              " tensor(4.8615, device='cuda:0', grad_fn=<NllLossBackward>),\n",
              " torch.Size([2, 149, 32128]))"
            ]
          },
          "metadata": {
            "tags": []
          },
          "execution_count": 16
        }
      ]
    },
    {
      "cell_type": "code",
      "metadata": {
        "id": "zUkKNqdHQvSG",
        "colab_type": "code",
        "colab": {
          "base_uri": "https://localhost:8080/",
          "height": 95
        },
        "outputId": "bb641780-ef40-4918-a4c4-aa043edbc591"
      },
      "source": [
        "learn.fine_tune(10)"
      ],
      "execution_count": null,
      "outputs": [
        {
          "output_type": "display_data",
          "data": {
            "text/html": [
              "\n",
              "    <div>\n",
              "        <style>\n",
              "            /* Turns off some styling */\n",
              "            progress {\n",
              "                /* gets rid of default border in Firefox and Opera. */\n",
              "                border: none;\n",
              "                /* Needs to be in here for Safari polyfill so background images work as expected. */\n",
              "                background-size: auto;\n",
              "            }\n",
              "            .progress-bar-interrupted, .progress-bar-interrupted::-webkit-progress-bar {\n",
              "                background: #F44336;\n",
              "            }\n",
              "        </style>\n",
              "      <progress value='0' class='' max='1' style='width:300px; height:20px; vertical-align: middle;'></progress>\n",
              "      0.00% [0/1 00:00<00:00]\n",
              "    </div>\n",
              "    \n",
              "<table border=\"1\" class=\"dataframe\">\n",
              "  <thead>\n",
              "    <tr style=\"text-align: left;\">\n",
              "      <th>epoch</th>\n",
              "      <th>train_loss</th>\n",
              "      <th>valid_loss</th>\n",
              "      <th>rouge1</th>\n",
              "      <th>rouge2</th>\n",
              "      <th>rougeL</th>\n",
              "      <th>time</th>\n",
              "    </tr>\n",
              "  </thead>\n",
              "  <tbody>\n",
              "  </tbody>\n",
              "</table><p>\n",
              "\n",
              "    <div>\n",
              "        <style>\n",
              "            /* Turns off some styling */\n",
              "            progress {\n",
              "                /* gets rid of default border in Firefox and Opera. */\n",
              "                border: none;\n",
              "                /* Needs to be in here for Safari polyfill so background images work as expected. */\n",
              "                background-size: auto;\n",
              "            }\n",
              "            .progress-bar-interrupted, .progress-bar-interrupted::-webkit-progress-bar {\n",
              "                background: #F44336;\n",
              "            }\n",
              "        </style>\n",
              "      <progress value='295' class='' max='1435' style='width:300px; height:20px; vertical-align: middle;'></progress>\n",
              "      20.56% [295/1435 00:47<03:02 2.5149]\n",
              "    </div>\n",
              "    "
            ],
            "text/plain": [
              "<IPython.core.display.HTML object>"
            ]
          },
          "metadata": {
            "tags": []
          }
        }
      ]
    },
    {
      "cell_type": "code",
      "metadata": {
        "id": "LmyVf8x8yWah",
        "colab_type": "code",
        "colab": {
          "base_uri": "https://localhost:8080/",
          "height": 80
        },
        "outputId": "56d23871-5405-4e7a-e246-24e5e95932f7"
      },
      "source": [
        "learn.fit_one_cycle(1, lr_max=3e-5)"
      ],
      "execution_count": 17,
      "outputs": [
        {
          "output_type": "display_data",
          "data": {
            "text/html": [
              "<table border=\"1\" class=\"dataframe\">\n",
              "  <thead>\n",
              "    <tr style=\"text-align: left;\">\n",
              "      <th>epoch</th>\n",
              "      <th>train_loss</th>\n",
              "      <th>valid_loss</th>\n",
              "      <th>rouge1</th>\n",
              "      <th>rouge2</th>\n",
              "      <th>rougeL</th>\n",
              "      <th>time</th>\n",
              "    </tr>\n",
              "  </thead>\n",
              "  <tbody>\n",
              "    <tr>\n",
              "      <td>0</td>\n",
              "      <td>2.525264</td>\n",
              "      <td>2.259764</td>\n",
              "      <td>0.388907</td>\n",
              "      <td>0.161089</td>\n",
              "      <td>0.261474</td>\n",
              "      <td>06:32</td>\n",
              "    </tr>\n",
              "  </tbody>\n",
              "</table>"
            ],
            "text/plain": [
              "<IPython.core.display.HTML object>"
            ]
          },
          "metadata": {
            "tags": []
          }
        }
      ]
    },
    {
      "cell_type": "code",
      "metadata": {
        "id": "req5ZoQhAr0b",
        "colab_type": "code",
        "colab": {
          "base_uri": "https://localhost:8080/",
          "height": 359
        },
        "outputId": "58afda38-960a-40eb-c553-43a1a574bc1a"
      },
      "source": [
        "learn.fit(10, lr_max=3e-5)"
      ],
      "execution_count": 18,
      "outputs": [
        {
          "output_type": "display_data",
          "data": {
            "text/html": [
              "<table border=\"1\" class=\"dataframe\">\n",
              "  <thead>\n",
              "    <tr style=\"text-align: left;\">\n",
              "      <th>epoch</th>\n",
              "      <th>train_loss</th>\n",
              "      <th>valid_loss</th>\n",
              "      <th>rouge1</th>\n",
              "      <th>rouge2</th>\n",
              "      <th>rougeL</th>\n",
              "      <th>time</th>\n",
              "    </tr>\n",
              "  </thead>\n",
              "  <tbody>\n",
              "    <tr>\n",
              "      <td>0</td>\n",
              "      <td>2.154420</td>\n",
              "      <td>2.135232</td>\n",
              "      <td>0.372351</td>\n",
              "      <td>0.153720</td>\n",
              "      <td>0.251954</td>\n",
              "      <td>06:33</td>\n",
              "    </tr>\n",
              "    <tr>\n",
              "      <td>1</td>\n",
              "      <td>1.978940</td>\n",
              "      <td>2.160321</td>\n",
              "      <td>0.348378</td>\n",
              "      <td>0.139123</td>\n",
              "      <td>0.237141</td>\n",
              "      <td>06:19</td>\n",
              "    </tr>\n",
              "    <tr>\n",
              "      <td>2</td>\n",
              "      <td>1.891379</td>\n",
              "      <td>2.182321</td>\n",
              "      <td>0.337382</td>\n",
              "      <td>0.134775</td>\n",
              "      <td>0.227054</td>\n",
              "      <td>06:16</td>\n",
              "    </tr>\n",
              "    <tr>\n",
              "      <td>3</td>\n",
              "      <td>1.844455</td>\n",
              "      <td>2.241297</td>\n",
              "      <td>0.337321</td>\n",
              "      <td>0.132325</td>\n",
              "      <td>0.230616</td>\n",
              "      <td>06:07</td>\n",
              "    </tr>\n",
              "    <tr>\n",
              "      <td>4</td>\n",
              "      <td>1.669486</td>\n",
              "      <td>2.266027</td>\n",
              "      <td>0.354064</td>\n",
              "      <td>0.144691</td>\n",
              "      <td>0.240066</td>\n",
              "      <td>06:10</td>\n",
              "    </tr>\n",
              "    <tr>\n",
              "      <td>5</td>\n",
              "      <td>1.608713</td>\n",
              "      <td>2.330722</td>\n",
              "      <td>0.349085</td>\n",
              "      <td>0.139748</td>\n",
              "      <td>0.234902</td>\n",
              "      <td>06:09</td>\n",
              "    </tr>\n",
              "    <tr>\n",
              "      <td>6</td>\n",
              "      <td>1.550301</td>\n",
              "      <td>2.358022</td>\n",
              "      <td>0.350997</td>\n",
              "      <td>0.139211</td>\n",
              "      <td>0.233425</td>\n",
              "      <td>06:20</td>\n",
              "    </tr>\n",
              "    <tr>\n",
              "      <td>7</td>\n",
              "      <td>1.405419</td>\n",
              "      <td>2.402207</td>\n",
              "      <td>0.344998</td>\n",
              "      <td>0.134808</td>\n",
              "      <td>0.229586</td>\n",
              "      <td>06:08</td>\n",
              "    </tr>\n",
              "    <tr>\n",
              "      <td>8</td>\n",
              "      <td>1.362793</td>\n",
              "      <td>2.458835</td>\n",
              "      <td>0.329510</td>\n",
              "      <td>0.126885</td>\n",
              "      <td>0.223247</td>\n",
              "      <td>05:58</td>\n",
              "    </tr>\n",
              "    <tr>\n",
              "      <td>9</td>\n",
              "      <td>1.273896</td>\n",
              "      <td>2.501071</td>\n",
              "      <td>0.348393</td>\n",
              "      <td>0.133642</td>\n",
              "      <td>0.230698</td>\n",
              "      <td>06:07</td>\n",
              "    </tr>\n",
              "  </tbody>\n",
              "</table>"
            ],
            "text/plain": [
              "<IPython.core.display.HTML object>"
            ]
          },
          "metadata": {
            "tags": []
          }
        }
      ]
    },
    {
      "cell_type": "code",
      "metadata": {
        "id": "0Unb4GotygJo",
        "colab_type": "code",
        "colab": {
          "base_uri": "https://localhost:8080/",
          "height": 502
        },
        "outputId": "7a363d3b-8dc3-4068-df0a-9c425f57ab5b"
      },
      "source": [
        "learn.show_results(learner=learn, max_n=20)"
      ],
      "execution_count": 20,
      "outputs": [
        {
          "output_type": "display_data",
          "data": {
            "text/html": [
              ""
            ],
            "text/plain": [
              "<IPython.core.display.HTML object>"
            ]
          },
          "metadata": {
            "tags": []
          }
        },
        {
          "output_type": "display_data",
          "data": {
            "text/html": [
              "<table border=\"1\" class=\"dataframe\">\n",
              "  <thead>\n",
              "    <tr style=\"text-align: right;\">\n",
              "      <th></th>\n",
              "      <th>text</th>\n",
              "      <th>target</th>\n",
              "      <th>prediction</th>\n",
              "    </tr>\n",
              "  </thead>\n",
              "  <tbody>\n",
              "    <tr>\n",
              "      <th>0</th>\n",
              "      <td>Former South African president FW de Klerk has sparked outrage after he gave a television interview in which he appeared to justify elements of apartheid. The Nobel Peace Prize laureate, 76, faced widespread condemnation this morning after he told the American news network CNN he believed there was merit in the idea of different ethnic groups living apart. Mr De Klerk told CNN that the idea of ethnic communities being separated, as under apartheid, was 'not repugnant'. FW de Klerk spoke on CNN, saying the idea of separated ethnic communities was not repugnant. He added that black people were not deprived of power under the apartheid regime, saying: 'They were not disenfranchised, they voted' FW de Klerk and Nelson Mandela addressing crowds after Mandela's inauguration in 1994. The former president served as South Africa's last white leader before the advent of democracy in 1994, and served as deputy president under Nelson Mandela until 1996. He was asked by CNN reporter Christiane Amanpour whether he believed apartheid had been morally repugnant. He answered: 'In as much as it trampled human rights it was and remains morally indefensible. 'I have made the most profound apology in front of the Truth Commission and on other occasions about the injustices which were wrought by apartheid.' But he added: 'What I haven't apologised for is the original concept of seeking to bring justice to all South Africans through the concept of nation states. 'In South Africa it failed. By the end of the 70s we had to realise, and accept and admit to ourselves that it had failed. And that is when fundamental reform started.' Mr De Klerk made his remarks as he spoke to CNN in Chicago, where he has been attending a summit of Nobel laureates. The statesman was awarded the peace prize jointly with Nelson Mandela in 1993 after the pair negotiated a peaceful end to apartheid. Mr De Klerk's National Party had previously controlled a white minority government in South Africa from 1948 to 1994. Former South African presidents Nelson Mandela, left, and FW de Klerk, right</td>\n",
              "      <td>FW de Klerk says the idea of apartheid ethnic separation was 'not repugnant' Last white president of South Africa denies that black people were disenfranchised under apartheid regime. He won Nobel Peace Prize with Nelson Mandela in 1993. His comments have provoked anger from South African community.</td>\n",
              "      <td>FW de Klerk spoke on CNN, saying apartheid was 'morally repugnant' The former South African president served as South Africa's last white leader before the advent of democracy in 1994 . He was awarded the Peace Prize jointly with Nelson Mandela in 1993 .</td>\n",
              "    </tr>\n",
              "    <tr>\n",
              "      <th>1</th>\n",
              "      <td>(CNN) -- Altovise Davis, the widow of entertainer Sammy Davis Jr., has died. She was 65. Altovise Davis, in a 2008 photo, married Sammy Davis Jr. in 1970. Davis died Saturday at the Cedars-Sinai Medical Center in Los Angeles, California, said her publicist, Amy Malone. She had been admitted two days earlier after suffering a stroke. Davis, a dancer and actress from Brooklyn, New York, met Sammy Davis Jr. on the set of the musical \"Golden Boy\" in London in 1967. The couple married three years later. It was Sammy Davis Jr.'s third marriage. The couple remained together until he died of throat cancer in 1990. The couple had an adopted son. Funeral services will be held in Burbank, California, with the date and time to be announced later. Sammy Davis Jr., himself a musician, was famous for being part of the Rat Pack, which included Frank Sinatra and Dean Martin. CNN's Janet DiGiacomo contributed to this report.</td>\n",
              "      <td>Altovise Davis, 65, died Saturday at a Los Angeles hospital, her publicist says. She had been admitted two days earlier after suffering a stroke. Davis, a dancer and actress, married Sammy Davis Jr. in 1970.</td>\n",
              "      <td>Davis, 65, dies Saturday at Cedars-Sinai Medical Center . Sammy Davis Jr., a dancer and actress from Brooklyn, has died of throat cancer . Davis, in a 2008 photo, married Sammy, Jr. in 1970 .</td>\n",
              "    </tr>\n",
              "  </tbody>\n",
              "</table>"
            ],
            "text/plain": [
              "<IPython.core.display.HTML object>"
            ]
          },
          "metadata": {
            "tags": []
          }
        }
      ]
    },
    {
      "cell_type": "code",
      "metadata": {
        "id": "CvDVOx88A8PG",
        "colab_type": "code",
        "colab": {}
      },
      "source": [
        "test_article = \"\"\"\n",
        "The past 12 months have been the worst for aviation fatalities so far this decade - with the total of number of people killed if airline crashes reaching 1,050 even before the Air Asia plane vanished. Two incidents involving Malaysia Airlines planes - one over eastern Ukraine and the other in the Indian Ocean - led to the deaths of 537 people, while an Air Algerie crash in Mali killed 116 and TransAsia Airways crash in Taiwan killed a further 49 people. The remaining 456 fatalities were largely in incidents involving small commercial planes or private aircraft operating on behalf of companies, governments or organisations. Despite 2014 having the highest number of fatalities so far this decade, the total number of crashes was in fact the lowest since the first commercial jet airliner took off in 1949 - totalling just 111 across the whole world over the past 12 months. The all-time deadliest year for aviation was 1972 when a staggering 2,429 people were killed in a total of 55 plane crashes - including the crash of Aeroflot Flight 217, which killed 174 people in Russia, and Convair 990 Coronado, which claimed 155 lives in Spain. However this year's total death count of 1,212, including those presumed dead on board the missing Air Asia flight, marks a significant rise on the very low 265 fatalities in 2013 - which led to it being named the safest year in aviation since the end of the Second World War. Scroll down for videos. Deadly: The past 12 months have been the worst for aviation fatalities so far this decade - with the total of number of people killed if airline crashes reaching 1,158 even before the Air Asia plane (pictured) vanished. Fatal: Two incidents involving Malaysia Airlines planes - one over eastern Ukraine (pictured) and the other in the Indian Ocean - led to the deaths of 537 people. Surprising: Despite 2014 having the highest number of fatalities so far this decade, the total number of crashes was in fact the lowest since the first commercial jet airliner took off in 1949. 2014 has been a horrific year for Malaysia-based airlines, with 537 people dying on Malaysia Airlines planes, and a further 162 people missing and feared dead in this week's Air Asia incident. In total more than half the people killed in aviation incidents this year had been flying on board Malaysia-registered planes. In January a total of 12 people lost their lives in five separate incidents, while the same number of crashes in February killed 107. \n",
        "\"\"\""
      ],
      "execution_count": 21,
      "outputs": []
    },
    {
      "cell_type": "code",
      "metadata": {
        "id": "5vwgpAx_A9iZ",
        "colab_type": "code",
        "colab": {
          "base_uri": "https://localhost:8080/",
          "height": 190
        },
        "outputId": "bda77944-9466-4cc2-e8c7-0f4f0ec8b9c8"
      },
      "source": [
        "outputs = learn.blurr_summarize(test_article, early_stopping=True, num_beams=4, num_return_sequences=3)\n",
        "\n",
        "for idx, o in enumerate(outputs):\n",
        "    print(f'=== Prediction {idx+1} ===\\n{o}\\n')"
      ],
      "execution_count": 22,
      "outputs": [
        {
          "output_type": "stream",
          "text": [
            "=== Prediction 1 ===\n",
            "Despite 2014 having the highest number of fatalities so far this decade, the total number of crashes was in fact the lowest since the first commercial jet airliner took off in 1949 . Two incidents involving Malaysia Airlines planes - one over eastern Ukraine and the other in the Indian Ocean - led to the deaths of 537 people . The remaining 456 were largely in aircraft operating on behalf of companies, governments or organisations . All-time deadliest year for aviation was 1972 when 2,429 people were killed in a total of\n",
            "\n",
            "=== Prediction 2 ===\n",
            "Despite 2014 having the highest number of fatalities so far this decade, the total number of crashes was in fact the lowest since the first commercial jet airliner took off in 1949 . Two incidents involving Malaysia Airlines planes - one over eastern Ukraine and the other in the Indian Ocean - led to the deaths of 537 people . The remaining 456 were largely in aircraft operating on behalf of companies, governments or organisations . All-time deadliest year for aviation was 1972 when a staggering 2,429 people were killed in \n",
            "\n",
            "=== Prediction 3 ===\n",
            "Despite 2014 having the highest number of fatalities so far this decade, the total number of crashes was in fact the lowest since the first commercial jet airliner took off in 1949 . Two incidents involving Malaysia Airlines planes - one over eastern Ukraine and the other in the Indian Ocean - led to the deaths of 537 people . The remaining 456 were largely in aircraft operating on behalf of companies, governments or organisations . All-time deadliest year in aviation was 1972 when 2,429 people were killed in a total of\n",
            "\n"
          ],
          "name": "stdout"
        }
      ]
    },
    {
      "cell_type": "code",
      "metadata": {
        "id": "J-F7ReQVm9uo",
        "colab_type": "code",
        "colab": {}
      },
      "source": [
        "learn.export(fname='ft_cnndm_export.pkl')"
      ],
      "execution_count": null,
      "outputs": []
    },
    {
      "cell_type": "code",
      "metadata": {
        "id": "dmOUA9jJnQU2",
        "colab_type": "code",
        "colab": {}
      },
      "source": [
        ""
      ],
      "execution_count": null,
      "outputs": []
    }
  ]
}